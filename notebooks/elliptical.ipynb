{
 "cells": [
  {
   "cell_type": "code",
   "execution_count": null,
   "metadata": {},
   "outputs": [],
   "source": [
    "# nbi:hide_in\n",
    "%matplotlib widget\n",
    "import ipywidgets as widgets\n",
    "import matplotlib.pyplot as plt\n",
    "import numpy as np"
   ]
  },
  {
   "cell_type": "code",
   "execution_count": null,
   "metadata": {},
   "outputs": [],
   "source": [
    "# nbi:hide_in\n",
    "fig, ax = plt.subplots(figsize=(6, 4))\n",
    "ax.grid(True)\n",
    "ax.set_aspect(\"equal\") \n",
    "\n",
    "def elliptical(x, ro, l):\n",
    "\n",
    "    return ro * np.sqrt(1-(x**2/l**2))\n",
    "\n",
    "@widgets.interact(\n",
    "        ro=widgets.FloatText(value=6), \n",
    "        l=widgets.FloatText(value=30), \n",
    "        s=widgets.FloatText(value=10), \n",
    "        ri=widgets.FloatText(value=5)\n",
    ")\n",
    "def update(ro = 6.0, l=30.0, s=10, ri=5.0):\n",
    "\n",
    "    x = np.linspace(0, int(l), int(l*5))\n",
    "\n",
    "    \"\"\"\n",
    "    This needs to run twice for sme reason ¯\\_(ツ)_/¯\n",
    "    \"\"\"\n",
    "    [line.remove() for line in ax.lines]\n",
    "    [line.remove() for line in ax.lines]\n",
    "\n",
    "    ax.plot(x, elliptical(x, ro, l), color='C0')\n",
    "    \n",
    "    ax.plot([l, -s, -s, 0, 0], [0, 0, ri, ri, ro], color='C0')"
   ]
  }
 ],
 "metadata": {
  "kernelspec": {
   "display_name": "Python 3",
   "language": "python",
   "name": "python3"
  },
  "language_info": {
   "codemirror_mode": {
    "name": "ipython",
    "version": 3
   },
   "file_extension": ".py",
   "mimetype": "text/x-python",
   "name": "python",
   "nbconvert_exporter": "python",
   "pygments_lexer": "ipython3",
   "version": "3.8.5"
  }
 },
 "nbformat": 4,
 "nbformat_minor": 4
}
