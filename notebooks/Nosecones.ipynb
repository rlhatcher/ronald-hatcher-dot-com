{
 "cells": [
  {
   "cell_type": "markdown",
   "metadata": {},
   "source": [
    "# Nosecone Designs\n",
    "\n",
    "This notbook provides descriptions, equations and renderings of several nose cone shapes commonly used in hobbly rocketry. The notebook leverages serveral common packages such as matplotlib, numpy for data handling and 2D graphing and some less-common packages viewscad, solidpython and OpenSCAD for 3D rendering.\n",
    "\n",
    "Our first step is to import these packages."
   ]
  },
  {
   "cell_type": "code",
   "execution_count": 41,
   "metadata": {},
   "outputs": [],
   "source": [
    "# nbi:hide_in\n",
    "from os.path import expanduser\n",
    "from ipywidgets import interact, interactive, fixed, interact_manual\n",
    "import ipywidgets as widgets\n",
    "import matplotlib.pyplot as plt\n",
    "import numpy as np\n",
    "import viewscad\n",
    "from solid import *"
   ]
  },
  {
   "cell_type": "markdown",
   "metadata": {},
   "source": [
    "L and R define the length and radius of the nosecone and S defines the diameter of the shoulder. M is the diameter of the mount."
   ]
  },
  {
   "cell_type": "code",
   "execution_count": 42,
   "metadata": {},
   "outputs": [],
   "source": [
    "# nbi:hide_in\n",
    "length = 60\n",
    "radius = 24.8/2\n",
    "S = 10\n",
    "Ri = 24.1/2\n",
    "\n",
    "SMOOTH=100"
   ]
  },
  {
   "cell_type": "markdown",
   "metadata": {},
   "source": [
    "This function adds origin coordinates to the arrays passed and plots a graph of the nosecone profile in 2 dimensions. The arrays are combined into an array of points and rotated around the z-axis and outputs an .stl file."
   ]
  },
  {
   "cell_type": "code",
   "execution_count": 43,
   "metadata": {},
   "outputs": [],
   "source": [
    "def render(x, y, name):\n",
    "    zero = np.array([0])\n",
    "    base = np.array([Ri])\n",
    "    shoulder = np.array([-S])\n",
    "\n",
    "    xplt = np.concatenate((shoulder, shoulder, zero, x, shoulder))\n",
    "    yplt = np.concatenate((zero, base, base, y, zero))\n",
    "\n",
    "    plt.axes().set_aspect(\"equal\")    \n",
    "    plt.plot(xplt, yplt)\n",
    "    \n",
    "    r = viewscad.Renderer()\n",
    "    p = rotate_extrude(360, segments=SMOOTH)(polygon(np.vstack((yplt, xplt)).T))\n",
    "                                        \n",
    "    r.render(p, outfile=expanduser(\"~\") + '/' + name + '.stl')"
   ]
  },
  {
   "cell_type": "markdown",
   "metadata": {},
   "source": [
    "We define a set of values for X from 0 to the nosecone length."
   ]
  },
  {
   "cell_type": "markdown",
   "metadata": {},
   "source": [
    "\n",
    "## Elliptical\n",
    "\n",
    "The elliptical nose cone shape is one-half of an ellipse, with the major axis being the centerline and the minor axis being the base of the nose cone. A rotation of a full ellipse about its major axis is called a prolate spheroid, so an elliptical nose shape would properly be known as a prolate hemispheroid. This shape is popular in subsonic flight (such as model rocketry) due to the blunt nose and tangent base and are generally considered superior for model rocketry altitude optimisation use. This is not a shape normally found in professional rocketry, which almost always flies at much higher velocities where other designs are more suitable.\n",
    "\n",
    "The profile is defined as $y=R{\\sqrt  {1-{x^{2} \\over L^{2}}}}$ If $R = L$, this is a hemisphere.\n",
    "\n",
    "We define our function, apply that to the values of x to generate an array of y values, which are used to generate a plot of the nosecone profile. The points returned combine the x and y arrays with the addition of the origin point to enure a closed shape. "
   ]
  },
  {
   "cell_type": "code",
   "execution_count": 44,
   "metadata": {
    "scrolled": true
   },
   "outputs": [
    {
     "data": {
      "application/vnd.jupyter.widget-view+json": {
       "model_id": "381e48b5abd94c2b8a62153741327d52",
       "version_major": 2,
       "version_minor": 0
      },
      "text/plain": [
       "VBox(children=(HTML(value=''), Renderer(background='#cccc88', background_opacity=0.0, camera=PerspectiveCamera…"
      ]
     },
     "metadata": {},
     "output_type": "display_data"
    },
    {
     "data": {
      "image/png": "[encoded data removed]",
      "text/plain": [
       "<Figure size 432x288 with 1 Axes>"
      ]
     },
     "metadata": {
      "needs_background": "light"
     },
     "output_type": "display_data"
    }
   ],
   "source": [
    "x = np.linspace(0, length, int(length * 5))\n",
    "f = lambda x: radius * np.sqrt(1-(x**2/length**2))\n",
    "y = f(x)\n",
    "\n",
    "render(x, y, 'elliptical')"
   ]
  },
  {
   "cell_type": "markdown",
   "metadata": {},
   "source": [
    "rotate the profile around the z-axis to create a solid object and output an .stl for subsequent use."
   ]
  },
  {
   "cell_type": "markdown",
   "metadata": {},
   "source": [
    "## Conical\n",
    "\n",
    "A very common nose-cone shape is a simple cone. This shape is often chosen for its ease of manufacture, and is also often chosen for its drag and radar cross section characteristics. A lower drag cone would be more streamlined, with the most optimal shape being a Sears-Haack body. The sides of a conical profile are straight lines, so the diameter equation is simply $y={xR \\over L}$\n",
    "\n",
    "Cones are sometimes defined by their half angle, $\\phi$\n",
    "\n",
    "$\\phi = \\arctan \\Bigl({R \\over L}\\Bigr)$ and $y = x \\tan (\\phi) $\n",
    "\n",
    "In practical applications, a conical nose is often blunted by capping it with a segment of a sphere. The tangency point where the sphere meets the cone can be found from\n",
    "\n",
    "$x_t = \\frac{L^2}{R}\\sqrt{\\frac{r_n^2}{R^2+L^2}}$\n",
    "\n",
    "$y_t = \\frac{x_tR}{L}$\n",
    "\n",
    "where\n",
    "\n",
    "$r_n$ is the radius of the spherical nose cap.\n",
    "\n",
    "$x_o = x_t + \\sqrt{r_n^2 - y_t^2}$\n",
    "\n",
    "$x_a = x_o - r_n$"
   ]
  },
  {
   "cell_type": "code",
   "execution_count": 33,
   "metadata": {},
   "outputs": [
    {
     "name": "stdout",
     "output_type": "stream",
     "text": [
      "[-10] [12.05] [0]\n"
     ]
    },
    {
     "data": {
      "image/png": "[encoded data removed]",
      "text/plain": [
       "<Figure size 432x288 with 1 Axes>"
      ]
     },
     "metadata": {
      "needs_background": "light"
     },
     "output_type": "display_data"
    }
   ],
   "source": [
    "f = lambda x: x*radius/length\n",
    "y = f(x)\n",
    "\n",
    "points = build_2d(x, y[::-1])"
   ]
  },
  {
   "cell_type": "code",
   "execution_count": 34,
   "metadata": {},
   "outputs": [
    {
     "data": {
      "application/vnd.jupyter.widget-view+json": {
       "model_id": "382125a5103e45cbb5d6a0098ceb3482",
       "version_major": 2,
       "version_minor": 0
      },
      "text/plain": [
       "VBox(children=(HTML(value=''), Renderer(background='#cccc88', background_opacity=0.0, camera=PerspectiveCamera…"
      ]
     },
     "metadata": {},
     "output_type": "display_data"
    }
   ],
   "source": [
    "build_3d(points, 'conical')"
   ]
  },
  {
   "cell_type": "markdown",
   "metadata": {},
   "source": [
    "## Parabolic\n",
    "This nose shape is not the blunt shape that is envisioned when people commonly refer to a \"parabolic\" nose cone. The parabolic series nose shape is generated by rotating a segment of a parabola around a line parallel to its latus rectum. This construction is similar to that of the tangent ogive, except that a parabola is the defining shape rather than a circle. Just as it does on an ogive, this construction produces a nose shape with a sharp tip. For the blunt shape typically associated with a parabolic nose, see power series below. (The parabolic shape is also often confused with the elliptical shape.)\n",
    "\n",
    "For $0 \\leq K^\\prime \\leq 1 :  y=R \\Biggl({2({x \\over L})-K^\\prime({x \\over L})^{2} \\over 2-K^\\prime}\\Biggr)$\n",
    "\n",
    "$K^\\prime$ can vary anywhere between $0$ and $1$, but the most common values used for nose cone shapes are:\n",
    "\n",
    "| Parabola Type | $K^\\prime$ Value |\n",
    "| --- | --- |\n",
    "| Cone | $0$ |\n",
    "| Half | $\\frac {1}{2}$ |\n",
    "| Three Quarter| $3 \\over 4$ |\n",
    "| Full | $1$ |\n",
    "\n",
    "For the case of the full parabola $(K^\\prime = 1)$ the shape is tangent to the body at its base, and the base is on the axis of the parabola. Values of $K^\\prime \\lt 1$ result in a slimmer shape, whose appearance is similar to that of the secant ogive. The shape is no longer tangent at the base, and the base is parallel to, but offset from, the axis of the parabola."
   ]
  },
  {
   "cell_type": "code",
   "execution_count": 35,
   "metadata": {},
   "outputs": [
    {
     "name": "stdout",
     "output_type": "stream",
     "text": [
      "[-10] [12.05] [0]\n"
     ]
    },
    {
     "data": {
      "image/png": "[encoded data removed]",
      "text/plain": [
       "<Figure size 432x288 with 1 Axes>"
      ]
     },
     "metadata": {
      "needs_background": "light"
     },
     "output_type": "display_data"
    }
   ],
   "source": [
    "K = .75\n",
    "\n",
    "f = lambda x: radius*(((2*(x/length))-(K*(x/length)**2))/(2-K))\n",
    "y = f(x)\n",
    "\n",
    "points = build_2d(x, y[::-1])"
   ]
  },
  {
   "cell_type": "code",
   "execution_count": 37,
   "metadata": {},
   "outputs": [
    {
     "data": {
      "application/vnd.jupyter.widget-view+json": {
       "model_id": "d60cfe0502a340b69b29643475298d58",
       "version_major": 2,
       "version_minor": 0
      },
      "text/plain": [
       "VBox(children=(HTML(value=''), Renderer(background='#cccc88', background_opacity=0.0, camera=PerspectiveCamera…"
      ]
     },
     "metadata": {},
     "output_type": "display_data"
    }
   ],
   "source": [
    "build_3d(points, 'parabolic')"
   ]
  },
  {
   "cell_type": "markdown",
   "metadata": {},
   "source": [
    "## Ogive\n",
    "### Tangent ogive\n",
    "Next to a simple cone, the tangent ogive shape is the most familiar in model/hobby rocketry. The profile of this shape is formed by a segment of a circle such that the rocket body is tangent to the curve of the nose cone at its base, and the base is on the radius of the circle. The popularity of this shape is largely due to the ease of constructing its profile, as it is simply a circular section.\n",
    "\n",
    "The radius of the circle that forms the ogive is called the ''ogive radius'', $\\rho$, and it is related to the length and base radius of the nose cone as expressed by the formula\n",
    "\n",
    "$\\rho = {R^2 + L^2\\over 2R}$\n",
    "\n",
    "The radius $y$ at any point $x$, as $x$ varies from $0$ to $L$ is\n",
    "\n",
    "$y = \\sqrt{\\rho^2 - (L - x)^2}+R - \\rho$\n",
    "\n",
    "The nose cone length, $L$, must be $\\leq \\rho$. If they are equal, then the shape is a hemisphere.\n",
    "\n",
    "### Spherically blunted tangent ogive\n",
    "A tangent ogive nose is often blunted by capping it with a segment of a [[sphere]].  The tangency point where the sphere meets the tangent ogive can be found from:\n",
    "\\begin{align}\n",
    "  x_o &= L - \\sqrt{\\left(\\rho - r_n\\right)^2 - (\\rho - R)^2} \\\\\n",
    "  y_t &= \\frac{r_n(\\rho - R)}{\\rho - r_n} \\\\\n",
    "  x_t &= x_o - \\sqrt{r_n^2 - y_t^2}\n",
    "\\end{align}\n",
    "where $r_n$ is the radius and $x_o$ is the center of the spherical nose cap.\n",
    "\n",
    "Finally, the apex point can be found from:\n",
    "$x_a = x_o - r_n$"
   ]
  },
  {
   "cell_type": "code",
   "execution_count": 38,
   "metadata": {
    "scrolled": true
   },
   "outputs": [
    {
     "name": "stdout",
     "output_type": "stream",
     "text": [
      "23273.312\n",
      "[ 0.          0.2006689   0.40133779  0.60200669  0.80267559  1.00334448\n",
      "  1.20401338  1.40468227  1.60535117  1.80602007  2.00668896  2.20735786\n",
      "  2.40802676  2.60869565  2.80936455  3.01003344  3.21070234  3.41137124\n",
      "  3.61204013  3.81270903  4.01337793  4.21404682  4.41471572  4.61538462\n",
      "  4.81605351  5.01672241  5.2173913   5.4180602   5.6187291   5.81939799\n",
      "  6.02006689  6.22073579  6.42140468  6.62207358  6.82274247  7.02341137\n",
      "  7.22408027  7.42474916  7.62541806  7.82608696  8.02675585  8.22742475\n",
      "  8.42809365  8.62876254  8.82943144  9.03010033  9.23076923  9.43143813\n",
      "  9.63210702  9.83277592 10.03344482 10.23411371 10.43478261 10.63545151\n",
      " 10.8361204  11.0367893  11.23745819 11.43812709 11.63879599 11.83946488\n",
      " 12.04013378 12.24080268 12.44147157 12.64214047 12.84280936 13.04347826\n",
      " 13.24414716 13.44481605 13.64548495 13.84615385 14.04682274 14.24749164\n",
      " 14.44816054 14.64882943 14.84949833 15.05016722 15.25083612 15.45150502\n",
      " 15.65217391 15.85284281 16.05351171 16.2541806  16.4548495  16.65551839\n",
      " 16.85618729 17.05685619 17.25752508 17.45819398 17.65886288 17.85953177\n",
      " 18.06020067 18.26086957 18.46153846 18.66220736 18.86287625 19.06354515\n",
      " 19.26421405 19.46488294 19.66555184 19.86622074 20.06688963 20.26755853\n",
      " 20.46822742 20.66889632 20.86956522 21.07023411 21.27090301 21.47157191\n",
      " 21.6722408  21.8729097  22.0735786  22.27424749 22.47491639 22.67558528\n",
      " 22.87625418 23.07692308 23.27759197 23.47826087 23.67892977 23.87959866\n",
      " 24.08026756 24.28093645 24.48160535 24.68227425 24.88294314 25.08361204\n",
      " 25.28428094 25.48494983 25.68561873 25.88628763 26.08695652 26.28762542\n",
      " 26.48829431 26.68896321 26.88963211 27.090301   27.2909699  27.4916388\n",
      " 27.69230769 27.89297659 28.09364548 28.29431438 28.49498328 28.69565217\n",
      " 28.89632107 29.09698997 29.29765886 29.49832776 29.69899666 29.89966555\n",
      " 30.10033445 30.30100334 30.50167224 30.70234114 30.90301003 31.10367893\n",
      " 31.30434783 31.50501672 31.70568562 31.90635452 32.10702341 32.30769231\n",
      " 32.5083612  32.7090301  32.909699   33.11036789 33.31103679 33.51170569\n",
      " 33.71237458 33.91304348 34.11371237 34.31438127 34.51505017 34.71571906\n",
      " 34.91638796 35.11705686 35.31772575 35.51839465 35.71906355 35.91973244\n",
      " 36.12040134 36.32107023 36.52173913 36.72240803 36.92307692 37.12374582\n",
      " 37.32441472 37.52508361 37.72575251 37.9264214  38.1270903  38.3277592\n",
      " 38.52842809 38.72909699 38.92976589 39.13043478 39.33110368 39.53177258\n",
      " 39.73244147 39.93311037 40.13377926 40.33444816 40.53511706 40.73578595\n",
      " 40.93645485 41.13712375 41.33779264 41.53846154 41.73913043 41.93979933\n",
      " 42.14046823 42.34113712 42.54180602 42.74247492 42.94314381 43.14381271\n",
      " 43.34448161 43.5451505  43.7458194  43.94648829 44.14715719 44.34782609\n",
      " 44.54849498 44.74916388 44.94983278 45.15050167 45.35117057 45.55183946\n",
      " 45.75250836 45.95317726 46.15384615 46.35451505 46.55518395 46.75585284\n",
      " 46.95652174 47.15719064 47.35785953 47.55852843 47.75919732 47.95986622\n",
      " 48.16053512 48.36120401 48.56187291 48.76254181 48.9632107  49.1638796\n",
      " 49.36454849 49.56521739 49.76588629 49.96655518 50.16722408 50.36789298\n",
      " 50.56856187 50.76923077 50.96989967 51.17056856 51.37123746 51.57190635\n",
      " 51.77257525 51.97324415 52.17391304 52.37458194 52.57525084 52.77591973\n",
      " 52.97658863 53.17725753 53.37792642 53.57859532 53.77926421 53.97993311\n",
      " 54.18060201 54.3812709  54.5819398  54.7826087  54.98327759 55.18394649\n",
      " 55.38461538 55.58528428 55.78595318 55.98662207 56.18729097 56.38795987\n",
      " 56.58862876 56.78929766 56.98996656 57.19063545 57.39130435 57.59197324\n",
      " 57.79264214 57.99331104 58.19397993 58.39464883 58.59531773 58.79598662\n",
      " 58.99665552 59.19732441 59.39799331 59.59866221 59.7993311  60.        ] [12.32265806 12.32317454 12.32368928 12.32420229 12.32471358 12.32522313\n",
      " 12.32573095 12.32623704 12.3267414  12.32724403 12.32774493 12.32824411\n",
      " 12.32874155 12.32923726 12.32973124 12.33022349 12.33071401 12.33120279\n",
      " 12.33168985 12.33217518 12.33265878 12.33314065 12.33362079 12.3340992\n",
      " 12.33457587 12.33505082 12.33552404 12.33599552 12.33646528 12.33693331\n",
      " 12.3373996  12.33786417 12.33832701 12.33878811 12.33924749 12.33970513\n",
      " 12.34016105 12.34061523 12.34106769 12.34151841 12.3419674  12.34241467\n",
      " 12.3428602  12.343304   12.34374608 12.34418642 12.34462503 12.34506191\n",
      " 12.34549707 12.34593049 12.34636218 12.34679214 12.34722037 12.34764687\n",
      " 12.34807164 12.34849468 12.34891599 12.34933557 12.34975342 12.35016954\n",
      " 12.35058393 12.35099659 12.35140752 12.35181672 12.35222418 12.35262992\n",
      " 12.35303393 12.35343621 12.35383676 12.35423557 12.35463266 12.35502802\n",
      " 12.35542164 12.35581354 12.3562037  12.35659214 12.35697885 12.35736382\n",
      " 12.35774707 12.35812858 12.35850836 12.35888642 12.35926274 12.35963734\n",
      " 12.3600102  12.36038133 12.36075074 12.36111841 12.36148435 12.36184856\n",
      " 12.36221105 12.3625718  12.36293082 12.36328811 12.36364367 12.3639975\n",
      " 12.36434961 12.36469998 12.36504862 12.36539553 12.36574071 12.36608416\n",
      " 12.36642588 12.36676586 12.36710412 12.36744065 12.36777545 12.36810852\n",
      " 12.36843986 12.36876946 12.36909734 12.36942349 12.36974791 12.37007059\n",
      " 12.37039155 12.37071078 12.37102827 12.37134404 12.37165807 12.37197038\n",
      " 12.37228096 12.3725898  12.37289692 12.3732023  12.37350595 12.37380788\n",
      " 12.37410807 12.37440654 12.37470327 12.37499827 12.37529155 12.37558309\n",
      " 12.3758729  12.37616098 12.37644734 12.37673196 12.37701485 12.37729601\n",
      " 12.37757544 12.37785314 12.37812911 12.37840335 12.37867586 12.37894664\n",
      " 12.37921569 12.37948301 12.3797486  12.38001246 12.38027459 12.38053499\n",
      " 12.38079366 12.3810506  12.3813058  12.38155928 12.38181103 12.38206105\n",
      " 12.38230933 12.38255589 12.38280072 12.38304381 12.38328518 12.38352482\n",
      " 12.38376272 12.3839989  12.38423334 12.38446606 12.38469704 12.3849263\n",
      " 12.38515382 12.38537962 12.38560368 12.38582601 12.38604662 12.38626549\n",
      " 12.38648263 12.38669805 12.38691173 12.38712368 12.3873339  12.3875424\n",
      " 12.38774916 12.38795419 12.38815749 12.38835906 12.3885589  12.38875701\n",
      " 12.38895339 12.38914804 12.38934096 12.38953215 12.38972161 12.38990934\n",
      " 12.39009534 12.39027961 12.39046215 12.39064296 12.39082203 12.39099938\n",
      " 12.391175   12.39134889 12.39152104 12.39169147 12.39186017 12.39202713\n",
      " 12.39219237 12.39235588 12.39251765 12.3926777  12.39283601 12.3929926\n",
      " 12.39314745 12.39330058 12.39345197 12.39360164 12.39374957 12.39389577\n",
      " 12.39404025 12.39418299 12.394324   12.39446329 12.39460084 12.39473666\n",
      " 12.39487076 12.39500312 12.39513375 12.39526265 12.39538982 12.39551526\n",
      " 12.39563897 12.39576095 12.39588121 12.39599973 12.39611652 12.39623158\n",
      " 12.3963449  12.3964565  12.39656637 12.39667451 12.39678092 12.3968856\n",
      " 12.39698855 12.39708977 12.39718925 12.39728701 12.39738304 12.39747734\n",
      " 12.3975699  12.39766074 12.39774985 12.39783722 12.39792287 12.39800678\n",
      " 12.39808897 12.39816942 12.39824815 12.39832514 12.39840041 12.39847394\n",
      " 12.39854575 12.39861582 12.39868417 12.39875078 12.39881566 12.39887882\n",
      " 12.39894024 12.39899993 12.39905789 12.39911413 12.39916863 12.3992214\n",
      " 12.39927244 12.39932175 12.39936933 12.39941518 12.39945931 12.3995017\n",
      " 12.39954236 12.39958129 12.39961849 12.39965396 12.39968769 12.3997197\n",
      " 12.39974998 12.39977853 12.39980535 12.39983044 12.3998538  12.39987542\n",
      " 12.39989532 12.39991349 12.39992993 12.39994463 12.39995761 12.39996886\n",
      " 12.39997837 12.39998616 12.39999221 12.39999654 12.39999913 12.4       ]\n"
     ]
    },
    {
     "data": {
      "text/plain": [
       "[<matplotlib.lines.Line2D at 0x7f895c5ac640>]"
      ]
     },
     "execution_count": 38,
     "metadata": {},
     "output_type": "execute_result"
    },
    {
     "data": {
      "image/png": "[encoded data removed]",
      "text/plain": [
       "<Figure size 432x288 with 1 Axes>"
      ]
     },
     "metadata": {
      "needs_background": "light"
     },
     "output_type": "display_data"
    }
   ],
   "source": [
    "rho = ((radius**2+length**2)/2*radius)\n",
    "print(rho)\n",
    "f = lambda x: np.sqrt((rho**2 - (x-length)**2)) + (radius - rho)\n",
    "y = f(x)\n",
    "print(x, y)\n",
    "yplt = y[::-1]\n",
    "plt.axes().set_aspect(\"auto\")    \n",
    "plt.plot(x, yplt)\n"
   ]
  },
  {
   "cell_type": "markdown",
   "metadata": {},
   "source": [
    "## Haack series\n",
    "\n",
    "Unlike all of the nose cone shapes above, the Haack Series shapes are not constructed from geometric figures. The shapes are instead mathematically derived for the purpose of minimizing drag; see also Sears–Haack body. While the series is a continuous set of shapes determined by the value of $C$ in the equations below, two values of $C$ have particular significance: when $C = 0$, the notation $LD$ signifies minimum drag for the given length and diameter, and when $C = {1 \\over 3}$, $LV$ indicates minimum drag for a given length and volume. The Haack series nose cones are not perfectly tangent to the body at their base except for the case where $C = {2 \\over 3}$. However, the discontinuity is usually so slight as to be imperceptible. For $C > {2 \\over 3}$, Haack nose cones bulge to a maximum diameter greater than the base diameter. Haack nose tips do not come to a sharp point, but are slightly rounded.\n",
    "\n",
    "$\\theta = \\arccos \\Bigl(1 - {2X \\over L}\\Bigr)$\n",
    "\n",
    "$y = {R \\over \\sqrt{\\pi}} \\sqrt{\\theta-{\\sin({2\\theta})\\over2}+C \\sin^3({\\theta})}$\n",
    "\n",
    "Where:\n",
    "\n",
    "$C = {1 \\over 3}$ for LV-Haack \n",
    "\n",
    "$C = 0$ for LD-Haack"
   ]
  },
  {
   "cell_type": "code",
   "execution_count": 39,
   "metadata": {},
   "outputs": [
    {
     "name": "stdout",
     "output_type": "stream",
     "text": [
      "[-10] [12.05] [0]\n"
     ]
    },
    {
     "data": {
      "image/png": "[encoded data removed]",
      "text/plain": [
       "<Figure size 432x288 with 1 Axes>"
      ]
     },
     "metadata": {
      "needs_background": "light"
     },
     "output_type": "display_data"
    }
   ],
   "source": [
    "C = 1/3\n",
    "\n",
    "f = lambda x: (radius/np.sqrt(np.pi))*np.sqrt((np.arccos(1 - (2*x)/length)) - (np.sin(2 * (np.arccos(1 - (2*x)/length))))/2 + C * np.sin((np.arccos(1 - (2*x)/length)))**3)\n",
    "y = f(x)\n",
    "\n",
    "points = build_2d(x, y[::-1])"
   ]
  },
  {
   "cell_type": "code",
   "execution_count": 40,
   "metadata": {},
   "outputs": [
    {
     "data": {
      "application/vnd.jupyter.widget-view+json": {
       "model_id": "57179eed713a4cc5acd30267fc2d0c43",
       "version_major": 2,
       "version_minor": 0
      },
      "text/plain": [
       "VBox(children=(HTML(value=''), Renderer(background='#cccc88', background_opacity=0.0, camera=PerspectiveCamera…"
      ]
     },
     "metadata": {},
     "output_type": "display_data"
    }
   ],
   "source": [
    "build_3d(points, 'haak')"
   ]
  },
  {
   "cell_type": "code",
   "execution_count": null,
   "metadata": {},
   "outputs": [],
   "source": []
  }
 ],
 "metadata": {
  "kernelspec": {
   "display_name": "Python 3",
   "language": "python",
   "name": "python3"
  },
  "language_info": {
   "codemirror_mode": {
    "name": "ipython",
    "version": 3
   },
   "file_extension": ".py",
   "mimetype": "text/x-python",
   "name": "python",
   "nbconvert_exporter": "python",
   "pygments_lexer": "ipython3",
   "version": "3.8.3"
  }
 },
 "nbformat": 4,
 "nbformat_minor": 4
}
